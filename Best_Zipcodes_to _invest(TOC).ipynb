{
 "cells": [
  {
   "cell_type": "markdown",
   "metadata": {},
   "source": [
    "# BEST ZIP CODES TO INVEST\n",
    "\n"
   ]
  },
  {
   "cell_type": "markdown",
   "metadata": {},
   "source": [
    "![zipcodes_to_invest.png](attachment:zipcodes_to_invest.png)\n"
   ]
  },
  {
   "cell_type": "markdown",
   "metadata": {},
   "source": [
    "## Problem Statement"
   ]
  },
  {
   "cell_type": "markdown",
   "metadata": {},
   "source": [
    "The purpose of this project is to provide 5 best zip codes to invest in real estate. Zillow monthly median price data from 1996 to 2018 will be used for this analysis."
   ]
  },
  {
   "cell_type": "markdown",
   "metadata": {},
   "source": [
    "__Filtering the zip codes:__\n",
    "\n",
    "The real estate market is known for its ups and downs with the ever-changing economic conditions. To choose the best zip codes, some of the main factors which affects the housing price are analyzed using census data. These factors are Population growth,Job growth,Rent index & Vacancy rate. The average rate of increase(ROI) for the last 4 years was calculated. Among the states with high ROI those with high population growth , job growth & rent index & low vacancy rate was filtered."
   ]
  },
  {
   "cell_type": "markdown",
   "metadata": {},
   "source": [
    "## The Dataset\n",
    "The dataset have the following features:\n",
    "\n",
    "- Region id\n",
    "- Region name\n",
    "- City\n",
    "- State\n",
    "- Metro area\n",
    "- County name \n",
    "- And the Median prices from 1996 to 2018"
   ]
  },
  {
   "cell_type": "markdown",
   "metadata": {},
   "source": [
    "##### External data sources links\n",
    "- https://www.bls.gov/news.release/laus.nr0.htm\n",
    "- https://www.census.gov/data/tables/time-series/demo/popest/2010s-state-total.html#par_textimage \n",
    "- https://www.census.gov/housing/hvs/files/annual18/ann18t_3.xlsx vacancy rate\n",
    "- https://www.usatoday.com/list/news/50-states/monthly-rent-by-state/6edf40b2-ca12-4902-84df-522c46b8f029/?block=texas - rent index\n",
    "\n",
    " "
   ]
  },
  {
   "cell_type": "markdown",
   "metadata": {},
   "source": [
    "# How to Navigate Jupyter Notebooks"
   ]
  },
  {
   "cell_type": "markdown",
   "metadata": {},
   "source": [
    "> __Order of Navigation:__\n",
    "- __Part I   :__ Jupyter Notebook: __Best_Zipcodes_to_invest - Best_Zipcodes_to_invest\n",
    ".ipynb__\n",
    "- __Part II  :__ Power point pdf : __Time series analysis 5 zip codes - Time series analysis 5 zip codes\n",
    ".pdf__\n",
    "- __Part III  :__ data : __Zillow_data - _Zillow_data\n",
    ".csv__"
   ]
  },
  {
   "cell_type": "markdown",
   "metadata": {},
   "source": [
    "# Learning Concepts and Tools"
   ]
  },
  {
   "cell_type": "markdown",
   "metadata": {},
   "source": [
    "__Data Science Concepts Used:__\n",
    "- Time series analysis\n",
    "- Data Mining\n",
    "- Data Visualization\n",
    "- Data Cleaning\n",
    "- Data Exploration\n",
    "\n",
    "\n",
    "__Tools Used:__\n",
    "- Time series ARIMA model\n",
    "- Matplotlib \n",
    "\n"
   ]
  },
  {
   "cell_type": "markdown",
   "metadata": {},
   "source": [
    "# Project Summary"
   ]
  },
  {
   "attachments": {},
   "cell_type": "markdown",
   "metadata": {},
   "source": [
    "## Problem Description\n",
    "The fluctuating price in real estate market put investors at risk of losing money. We try to lower the risk by analyzing the factors affecting the market and selecting the areas with low risk and high profit."
   ]
  },
  {
   "attachments": {},
   "cell_type": "markdown",
   "metadata": {},
   "source": [
    "## Rate of Increase\n",
    "\n",
    "ROI was calculated for each year from 2015 to 2018 and then the average was used to select the top zip codes. \n",
    "\n",
    "__Top zipcodes with the highest rate of increse__\n",
    "![high_roi_zipcodes.png](attachment:high_roi_zipcodes.png)"
   ]
  },
  {
   "cell_type": "markdown",
   "metadata": {},
   "source": [
    "__Population growth,Job growth& Vacancy rate__\n",
    "![zipcode_growth.png](attachment:zipcode_growth.png)"
   ]
  },
  {
   "cell_type": "markdown",
   "metadata": {},
   "source": [
    "__Rent index__\n",
    "\n",
    "![zipcode_rent_index.png](attachment:zipcode_rent_index.png)"
   ]
  },
  {
   "cell_type": "markdown",
   "metadata": {},
   "source": [
    "# Best Zip Codes | Conclusions"
   ]
  },
  {
   "cell_type": "markdown",
   "metadata": {},
   "source": [
    "The analysis, shows the best zip codes to invest are: "
   ]
  },
  {
   "cell_type": "markdown",
   "metadata": {},
   "source": [
    "> __Key Findings__\n",
    "- zip code 27980 Hertfold, NC\n",
    "- zip code 30032 Candler-Mcafee,GA\n",
    "- zip code 33805 Lakeland, Fl\n",
    "- zip code 32117 Holly Hill,Fl\n",
    "- zip code 95134  San Jose , CA\n",
    "- zip code 28208  Charlotte , NC"
   ]
  },
  {
   "cell_type": "markdown",
   "metadata": {},
   "source": [
    "# Best zip codes to invest | Recommendations"
   ]
  },
  {
   "cell_type": "markdown",
   "metadata": {},
   "source": [
    "The prices were analyzed using time series and zip code 95134 is exclude from the list of zip code due to model accuracy and the rest 5 zip codes are finalized. the model has wider confidence interval beyond 2021. So that we will be forecasting and using the next 36 months only. The rate of increase is calculated between 2018 & 2021 for each zip code and according to the the ROI value the following is recommended:  \n",
    "\n",
    "__For the following zip codes with high ROI by 2021 , rent the house for a while & sale it when the price go up__\n",
    " \n",
    "  \n",
    "- Zip code 28208 Charlotte, NC , ROI of 73% by 2021\n",
    "\n",
    "- Zip code 33805 Lakeland, Fl ,ROI of 78% by 2021\n",
    "\n",
    "- Zip code 30032 Candler-Mcafee,GA ,ROI of 76% by 2021\n",
    "\n",
    "\n",
    "\n",
    "__Due to the lower ROI by 2021 remodeling and selling is the best choice for the following zip codes__\n",
    "- Due to the lower ROI by 2021 remodeling and selling is the best choice\n",
    "\n",
    "- Zip code 27980 Hertfold, NC , ROI of 45 % by 2021\n",
    "\n",
    "- Zip code 32117 Holly Hill,Fl ,ROI of 56% by 2021\n"
   ]
  },
  {
   "cell_type": "code",
   "execution_count": null,
   "metadata": {},
   "outputs": [],
   "source": []
  }
 ],
 "metadata": {
  "kernelspec": {
   "display_name": "Python 3",
   "language": "python",
   "name": "python3"
  },
  "language_info": {
   "codemirror_mode": {
    "name": "ipython",
    "version": 3
   },
   "file_extension": ".py",
   "mimetype": "text/x-python",
   "name": "python",
   "nbconvert_exporter": "python",
   "pygments_lexer": "ipython3",
   "version": "3.7.6"
  },
  "toc": {
   "base_numbering": 1,
   "nav_menu": {
    "height": "292px",
    "width": "218px"
   },
   "number_sections": true,
   "sideBar": true,
   "skip_h1_title": false,
   "title_cell": "Table of Contents",
   "title_sidebar": "Contents",
   "toc_cell": false,
   "toc_position": {
    "height": "calc(100% - 180px)",
    "left": "10px",
    "top": "150px",
    "width": "256px"
   },
   "toc_section_display": true,
   "toc_window_display": true
  },
  "varInspector": {
   "cols": {
    "lenName": 16,
    "lenType": 16,
    "lenVar": 40
   },
   "kernels_config": {
    "python": {
     "delete_cmd_postfix": "",
     "delete_cmd_prefix": "del ",
     "library": "var_list.py",
     "varRefreshCmd": "print(var_dic_list())"
    },
    "r": {
     "delete_cmd_postfix": ") ",
     "delete_cmd_prefix": "rm(",
     "library": "var_list.r",
     "varRefreshCmd": "cat(var_dic_list()) "
    }
   },
   "types_to_exclude": [
    "module",
    "function",
    "builtin_function_or_method",
    "instance",
    "_Feature"
   ],
   "window_display": false
  }
 },
 "nbformat": 4,
 "nbformat_minor": 2
}
